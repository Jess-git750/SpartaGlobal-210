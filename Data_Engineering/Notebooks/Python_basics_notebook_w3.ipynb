{
 "cells": [
  {
   "cell_type": "markdown",
   "id": "72d8ffc4",
   "metadata": {},
   "source": [
    "###  Variables\n",
    "**Unpacking**: extract values into variables (ex:tuple)"
   ]
  },
  {
   "cell_type": "code",
   "execution_count": 1,
   "id": "96bc3be4",
   "metadata": {},
   "outputs": [
    {
     "name": "stdout",
     "output_type": "stream",
     "text": [
      "apple\n",
      "banana\n",
      "cherry\n"
     ]
    }
   ],
   "source": [
    "fruits = [\"apple\", \"banana\", \"cherry\"]\n",
    "x, y, z = fruits\n",
    "print(x)\n",
    "print(y)\n",
    "print(z)"
   ]
  },
  {
   "cell_type": "markdown",
   "id": "bdf3659f",
   "metadata": {},
   "source": [
    "! cannot combine (+) int and str"
   ]
  },
  {
   "cell_type": "markdown",
   "id": "0992afcb",
   "metadata": {},
   "source": [
    "**global** : create variable in the global scope"
   ]
  },
  {
   "cell_type": "code",
   "execution_count": 3,
   "id": "c7d5f777",
   "metadata": {},
   "outputs": [
    {
     "name": "stdout",
     "output_type": "stream",
     "text": [
      "Python is fantastic\n"
     ]
    }
   ],
   "source": [
    "x = \"awesome\"\n",
    "\n",
    "def myfunc():\n",
    "  global x\n",
    "  x = \"fantastic\"\n",
    "\n",
    "myfunc()\n",
    "\n",
    "print(\"Python is \" + x)\n"
   ]
  },
  {
   "cell_type": "markdown",
   "id": "86923c39",
   "metadata": {},
   "source": [
    "###  Data Types"
   ]
  },
  {
   "cell_type": "markdown",
   "id": "35625f63",
   "metadata": {},
   "source": [
    "- complex : The complex() function returns a complex number by specifying a real number and an imaginary number. ex: 1j\n",
    "- frozenset :  Method creates an immutable Set object from an iterable. ex:x = frozenset({\"apple\", \"banana\", \"cherry\"})\n",
    "- bytes, bytearray : The difference between bytes() and bytearray() is that bytes() returns an object that cannot be modified, and bytearray() returns an object that can be modified.\n",
    "- NoneType : an object that indicates no value."
   ]
  },
  {
   "cell_type": "markdown",
   "id": "6c4cedb9",
   "metadata": {},
   "source": [
    "### Numbers"
   ]
  },
  {
   "cell_type": "code",
   "execution_count": 4,
   "id": "5af390e3",
   "metadata": {},
   "outputs": [
    {
     "name": "stdout",
     "output_type": "stream",
     "text": [
      "9\n"
     ]
    }
   ],
   "source": [
    "import random\n",
    "\n",
    "print(random.randrange(1, 10))"
   ]
  },
  {
   "cell_type": "markdown",
   "id": "d45abde3",
   "metadata": {
    "tags": [
     "string"
    ]
   },
   "source": [
    "### Strings"
   ]
  },
  {
   "cell_type": "markdown",
   "id": "ac95b12b",
   "metadata": {},
   "source": [
    "To see if \" \" is present in text"
   ]
  },
  {
   "cell_type": "code",
   "execution_count": 5,
   "id": "2b2a38c4",
   "metadata": {},
   "outputs": [
    {
     "name": "stdout",
     "output_type": "stream",
     "text": [
      "True\n"
     ]
    }
   ],
   "source": [
    "txt = \"The best things in life are free!\"\n",
    "print(\"free\" in txt)"
   ]
  },
  {
   "cell_type": "code",
   "execution_count": null,
   "id": "1a53a757",
   "metadata": {},
   "outputs": [],
   "source": [
    "not in txt #will return bool"
   ]
  },
  {
   "cell_type": "markdown",
   "id": "5e469d80",
   "metadata": {
    "tags": [
     "string_method"
    ]
   },
   "source": [
    "\n",
    "#### String Method Description\n",
    "capitalize()\tConverts the first character to upper case\n",
    "casefold()\tConverts string into lower case\n",
    "center()\tReturns a centered string\n",
    "count()\tReturns the number of times a specified value occurs in a string\n",
    "encode()\tReturns an encoded version of the string\n",
    "endswith()\tReturns true if the string ends with the specified value\n",
    "expandtabs()\tSets the tab size of the string\n",
    "find()\tSearches the string for a specified value and returns the position of where it was found\n",
    "format()\tFormats specified values in a string\n",
    "format_map()\tFormats specified values in a string\n",
    "index()\tSearches the string for a specified value and returns the position of where it was found\n",
    "isalnum()\tReturns True if all characters in the string are alphanumeric\n",
    "isalpha()\tReturns True if all characters in the string are in the alphabet\n",
    "isascii()\tReturns True if all characters in the string are ascii characters\n",
    "isdecimal()\tReturns True if all characters in the string are decimals\n",
    "isdigit()\tReturns True if all characters in the string are digits\n",
    "isidentifier()\tReturns True if the string is an identifier\n",
    "islower()\tReturns True if all characters in the string are lower case\n",
    "isnumeric()\tReturns True if all characters in the string are numeric\n",
    "isprintable()\tReturns True if all characters in the string are printable\n",
    "isspace()\tReturns True if all characters in the string are whitespaces\n",
    "istitle()\tReturns True if the string follows the rules of a title\n",
    "isupper()\tReturns True if all characters in the string are upper case\n",
    "join()\tConverts the elements of an iterable into a string\n",
    "ljust()\tReturns a left justified version of the string\n",
    "lower()\tConverts a string into lower case\n",
    "lstrip()\tReturns a left trim version of the string\n",
    "maketrans()\tReturns a translation table to be used in translations\n",
    "partition()\tReturns a tuple where the string is parted into three parts\n",
    "replace()\tReturns a string where a specified value is replaced with a specified value\n",
    "rfind()\tSearches the string for a specified value and returns the last position of where it was found\n",
    "rindex()\tSearches the string for a specified value and returns the last position of where it was found\n",
    "rjust()\tReturns a right justified version of the string\n",
    "rpartition()\tReturns a tuple where the string is parted into three parts\n",
    "rsplit()\tSplits the string at the specified separator, and returns a list\n",
    "rstrip()\tReturns a right trim version of the string\n",
    "split()\tSplits the string at the specified separator, and returns a list\n",
    "splitlines()\tSplits the string at line breaks and returns a list\n",
    "startswith()\tReturns true if the string starts with the specified value\n",
    "strip()\tReturns a trimmed version of the string\n",
    "swapcase()\tSwaps cases, lower case becomes upper case and vice versa\n",
    "title()\tConverts the first character of each word to upper case\n",
    "translate()\tReturns a translated string\n",
    "upper()\tConverts a string into upper case\n",
    "zfill()\tFills the string with a specified number of 0 values at the beginning\n"
   ]
  },
  {
   "cell_type": "markdown",
   "id": "d9f835ee",
   "metadata": {
    "tags": [
     "escape"
    ]
   },
   "source": [
    "#### Escape characters\n",
    "\n",
    "Code\tResult\t\n",
    "\\'\t   Single Quote\t\n",
    "\\\\\t   Backslash\t\n",
    "\\n\t   New Line\t\n",
    "\\r\t   Carriage Return\t\n",
    "\\t\t   Tab\t\n",
    "\\b\t   Backspace\t\n",
    "\\f\t   Form Feed\t\n",
    "\\ooo   Octal value\t\n",
    "\\xhh   Hex value\t\n"
   ]
  },
  {
   "cell_type": "markdown",
   "id": "55e41c0e",
   "metadata": {
    "tags": [
     "bool"
    ]
   },
   "source": [
    "## Booleans"
   ]
  },
  {
   "cell_type": "markdown",
   "id": "c296e721",
   "metadata": {},
   "source": [
    "Almost any value is evaluated to True if it has some sort of content.\n",
    "\n",
    "Any string is True, except empty strings.\n",
    "\n",
    "Any number is True, except 0.\n",
    "\n",
    "Any list, tuple, set, and dictionary are True, except empty ones."
   ]
  },
  {
   "cell_type": "markdown",
   "id": "5b40508d",
   "metadata": {},
   "source": [
    "is_instance() to determine if object is of a certain data type"
   ]
  },
  {
   "cell_type": "code",
   "execution_count": 1,
   "id": "dc4d0a73",
   "metadata": {},
   "outputs": [
    {
     "name": "stdout",
     "output_type": "stream",
     "text": [
      "True\n"
     ]
    }
   ],
   "source": [
    "x = 200\n",
    "print(isinstance(x, int))"
   ]
  },
  {
   "cell_type": "markdown",
   "id": "2a2aae6f",
   "metadata": {},
   "source": [
    "## Python Operator"
   ]
  },
  {
   "cell_type": "markdown",
   "id": "7dda371e",
   "metadata": {
    "tags": [
     "Operators"
    ]
   },
   "source": [
    "#### Arithmetic Operators\n",
    "Operator\tName\tExample\tTry it\n",
    "+\tAddition\tx + y\t\n",
    "-\tSubtraction\tx - y\t\n",
    "*\tMultiplication\tx * y\t\n",
    "/\tDivision\tx / y\t\n",
    "%\tModulus\tx % y\t\n",
    "**\tExponentiation\tx ** y\t\n",
    "//\tFloor division\tx // y\t\n"
   ]
  },
  {
   "cell_type": "markdown",
   "id": "26b06365",
   "metadata": {
    "tags": [
     "Operators"
    ]
   },
   "source": [
    "#### Assignement Operators\n",
    "Assignment operators are used to assign values to variables:\n",
    "\n",
    "Op.  Example\t    Same As\t\n",
    "=\t  x = 5\t       x = 5\t\n",
    "+=\t  x += 3\t   x = x + 3\t\n",
    "-=\t  x -= 3\t   x = x - 3\t\n",
    "*=\t  x *= 3\t   x = x * 3\t\n",
    "/=\t  x /= 3\t   x = x / 3\t\n",
    "%=\t  x %= 3\t   x = x % 3\t\n",
    "//=\t  x //= 3\t   x = x // 3\t\n",
    "**=\t  x **= 3\t   x = x ** 3\t\n",
    "&=\t  x &= 3\t   x = x & 3\t\n",
    "|=\t  x |= 3\t   x = x | 3\t\n",
    "^=\t  x ^= 3\t   x = x ^ 3\t\n",
    ">>=\tx >>= 3\tx = x >> 3\t\n",
    "<<=\tx <<= 3\tx = x << 3"
   ]
  },
  {
   "cell_type": "markdown",
   "id": "bd4c8fc9",
   "metadata": {
    "tags": [
     "list"
    ]
   },
   "source": [
    "## Lists"
   ]
  },
  {
   "cell_type": "code",
   "execution_count": 6,
   "id": "bbdfd2ce",
   "metadata": {},
   "outputs": [
    {
     "name": "stdout",
     "output_type": "stream",
     "text": [
      "Yes, 'apple' is in the fruits list\n"
     ]
    }
   ],
   "source": [
    "thislist = [\"apple\", \"banana\", \"cherry\"]\n",
    "if \"apple\" in thislist:\n",
    "  print(\"Yes, 'apple' is in the fruits list\")"
   ]
  },
  {
   "cell_type": "code",
   "execution_count": 7,
   "id": "dd7a34c0",
   "metadata": {},
   "outputs": [
    {
     "name": "stdout",
     "output_type": "stream",
     "text": [
      "['apple', 'banana', 'watermelon', 'cherry']\n"
     ]
    }
   ],
   "source": [
    "To insert in list : .insert()\n",
    "thislist = [\"apple\", \"banana\", \"cherry\"]\n",
    "thislist.insert(2, \"watermelon\")\n",
    "print(thislist)"
   ]
  },
  {
   "cell_type": "code",
   "execution_count": 8,
   "id": "86889789",
   "metadata": {},
   "outputs": [
    {
     "name": "stdout",
     "output_type": "stream",
     "text": [
      "['apple', 'banana', 'cherry', 'orange']\n"
     ]
    }
   ],
   "source": [
    "#Using the append() method to append an item:\n",
    "\n",
    "thislist = [\"apple\", \"banana\", \"cherry\"]\n",
    "thislist.append(\"orange\")\n",
    "print(thislist)"
   ]
  },
  {
   "cell_type": "code",
   "execution_count": 9,
   "id": "207229cf",
   "metadata": {},
   "outputs": [
    {
     "name": "stdout",
     "output_type": "stream",
     "text": [
      "['apple', 'banana', 'cherry', 'mango', 'pineapple', 'papaya']\n"
     ]
    }
   ],
   "source": [
    " #add liost to another list or any iterable. Add the elements of tropical to thislist:\n",
    "\n",
    "thislist = [\"apple\", \"banana\", \"cherry\"]\n",
    "tropical = [\"mango\", \"pineapple\", \"papaya\"]\n",
    "thislist.extend(tropical)\n",
    "print(thislist)"
   ]
  },
  {
   "cell_type": "code",
   "execution_count": 10,
   "id": "5f214869",
   "metadata": {
    "tags": [
     "list",
     "comprehension"
    ]
   },
   "outputs": [
    {
     "name": "stdout",
     "output_type": "stream",
     "text": [
      "['apple', 'banana', 'mango']\n"
     ]
    }
   ],
   "source": [
    "fruits = [\"apple\", \"banana\", \"cherry\", \"kiwi\", \"mango\"]\n",
    "\n",
    "newlist = [x for x in fruits if \"a\" in x]\n",
    "\n",
    "print(newlist)"
   ]
  },
  {
   "cell_type": "code",
   "execution_count": null,
   "id": "e87afe7e",
   "metadata": {},
   "outputs": [],
   "source": [
    "newlist = [expression for item in iterable if condition == True]\n"
   ]
  },
  {
   "cell_type": "code",
   "execution_count": null,
   "id": "8eed6fa4",
   "metadata": {},
   "outputs": [],
   "source": [
    "newlist = [x for x in range(10) if x < 5]\n",
    "newlist = [x.upper() for x in fruits]\n"
   ]
  },
  {
   "cell_type": "code",
   "execution_count": 13,
   "id": "d6adf9b6",
   "metadata": {
    "tags": [
     "sort"
    ]
   },
   "outputs": [
    {
     "name": "stdout",
     "output_type": "stream",
     "text": [
      "[100, 82, 65, 50, 23]\n",
      "['banana', 'cherry', 'Kiwi', 'Orange']\n"
     ]
    }
   ],
   "source": [
    "#to sort in reverse\n",
    "thislist = [100, 50, 65, 82, 23]\n",
    "thislist.sort(reverse = True)\n",
    "print(thislist)\n",
    "#to sort with case insensitive:\n",
    "thislist = [\"banana\", \"Orange\", \"Kiwi\", \"cherry\"]\n",
    "thislist.sort(key = str.lower)\n",
    "print(thislist)\n"
   ]
  },
  {
   "cell_type": "code",
   "execution_count": 12,
   "id": "f350cd77",
   "metadata": {
    "tags": [
     "sort"
    ]
   },
   "outputs": [
    {
     "name": "stdout",
     "output_type": "stream",
     "text": [
      "[50, 65, 23, 82, 100]\n"
     ]
    }
   ],
   "source": [
    "#Sort the list based on how close the number is to 50:\n",
    "\n",
    "def myfunc(n):\n",
    "  return abs(n - 50)\n",
    "\n",
    "thislist = [100, 50, 65, 82, 23]\n",
    "thislist.sort(key = myfunc)\n",
    "print(thislist)"
   ]
  },
  {
   "cell_type": "code",
   "execution_count": null,
   "id": "6797d544",
   "metadata": {
    "tags": [
     "list",
     "copy"
    ]
   },
   "outputs": [],
   "source": [
    "#to create a copy, use list()\n",
    "thislist = [\"apple\", \"banana\", \"cherry\"]\n",
    "mylist = list(thislist)\n",
    "print(mylist)"
   ]
  },
  {
   "cell_type": "markdown",
   "id": "82ecb961",
   "metadata": {
    "tags": [
     "List",
     "method"
    ]
   },
   "source": [
    "\n",
    "Method\t            Description\n",
    "append()\tAdds an element at the end of the list\n",
    "clear()\t    Removes all the elements from the list\n",
    "copy()\t    Returns a copy of the list\n",
    "count()\t    Returns the number of elements with the specified value\n",
    "extend()\tAdd the elements of a list (or any iterable), to the end of the current list\n",
    "index()\t    Returns the index of the first element with the specified value\n",
    "insert()\tAdds an element at the specified position\n",
    "pop()\t    Removes the element at the specified position\n",
    "remove()\tRemoves the item with the specified value\n",
    "reverse()\tReverses the order of the list\n",
    "sort()\t    Sorts the list"
   ]
  }
 ],
 "metadata": {
  "celltoolbar": "Tags",
  "kernelspec": {
   "display_name": "Python 3 (ipykernel)",
   "language": "python",
   "name": "python3"
  },
  "language_info": {
   "codemirror_mode": {
    "name": "ipython",
    "version": 3
   },
   "file_extension": ".py",
   "mimetype": "text/x-python",
   "name": "python",
   "nbconvert_exporter": "python",
   "pygments_lexer": "ipython3",
   "version": "3.11.1"
  }
 },
 "nbformat": 4,
 "nbformat_minor": 5
}
