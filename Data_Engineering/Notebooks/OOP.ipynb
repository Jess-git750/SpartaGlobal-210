{
 "cells": [
  {
   "cell_type": "code",
   "execution_count": 1,
   "id": "0454b9a4",
   "metadata": {},
   "outputs": [],
   "source": [
    "class Car():\n",
    "    pass"
   ]
  },
  {
   "cell_type": "code",
   "execution_count": 2,
   "id": "bd609094",
   "metadata": {},
   "outputs": [
    {
     "data": {
      "text/plain": [
       "<__main__.Car at 0x106829cd0>"
      ]
     },
     "execution_count": 2,
     "metadata": {},
     "output_type": "execute_result"
    }
   ],
   "source": [
    "my_first_object = Car()\n",
    "my_first_object"
   ]
  },
  {
   "cell_type": "code",
   "execution_count": 3,
   "id": "b9590854",
   "metadata": {},
   "outputs": [],
   "source": [
    "class Dog():\n",
    "    \"\"\"\"\n",
    "    This is a Dog Class\n",
    "    \"\"\"\n",
    "    animal_kind = \"Canine\"\n",
    "    def __init__(self,name=\"Kenji\",breed=\"Berger de Beauce\"):\n",
    "        #attributes\n",
    "        self.name = name\n",
    "        self.breed = breed"
   ]
  },
  {
   "cell_type": "code",
   "execution_count": 4,
   "id": "e03ba387",
   "metadata": {},
   "outputs": [],
   "source": [
    "my_dog2 = Dog()\n",
    "\n",
    "\n"
   ]
  },
  {
   "cell_type": "code",
   "execution_count": 5,
   "id": "946ff60a",
   "metadata": {},
   "outputs": [
    {
     "data": {
      "text/plain": [
       "'Canine'"
      ]
     },
     "execution_count": 5,
     "metadata": {},
     "output_type": "execute_result"
    }
   ],
   "source": [
    "my_dog2.animal_kind"
   ]
  },
  {
   "cell_type": "markdown",
   "id": "48877708",
   "metadata": {},
   "source": [
    "Methods\n",
    "\n"
   ]
  },
  {
   "cell_type": "code",
   "execution_count": 6,
   "id": "524e29f8",
   "metadata": {},
   "outputs": [],
   "source": [
    "class Dog():\n",
    "    \"\"\"\"\n",
    "    This is a Dog Class\n",
    "    \"\"\"\n",
    "    animal_kind = \"Canine\"\n",
    "    def __init__(self,name=\"Kenji\",breed=\"Berger de Beauce\"):\n",
    "        #attributes\n",
    "        self.name = name\n",
    "        self.breed = breed\n",
    "    def bark(self,age):\n",
    "        \"\"\"\n",
    "        This is a method that makes the dog bark\n",
    "        \"\"\"\n",
    "        print(f\"Whoof and my name is {self.name} and my age is {age}\")"
   ]
  },
  {
   "cell_type": "markdown",
   "id": "6690a39e",
   "metadata": {},
   "source": [
    "fonction inside class = method"
   ]
  },
  {
   "cell_type": "code",
   "execution_count": 7,
   "id": "096e2c86",
   "metadata": {},
   "outputs": [
    {
     "name": "stdout",
     "output_type": "stream",
     "text": [
      "Whoof and my name is Shakti and my age is 2\n"
     ]
    }
   ],
   "source": [
    "my_dog3 = Dog(name=\"Shakti\", breed=\"Berger\")\n",
    "my_dog3.bark(2)\n"
   ]
  },
  {
   "cell_type": "markdown",
   "id": "46e34904",
   "metadata": {},
   "source": [
    "write class called Circle. attributes: pi, radius, methodes: calculate area, calculate_circumference"
   ]
  },
  {
   "cell_type": "code",
   "execution_count": 10,
   "id": "e7e81d42",
   "metadata": {},
   "outputs": [],
   "source": [
    "class  Circle():\n",
    "    \"\"\"\n",
    "    This is a Circle Class\n",
    "    \"\"\"\n",
    "    pi = 3.14159\n",
    "    def __init__(self, radius):\n",
    "         self.radius = radius\n",
    "    def calculate_area(self):\n",
    "        print(Circle.pi * (self.radius**2))\n",
    "    def calculate_circumference(self):\n",
    "        print(2* Circle.pi * self.radius)"
   ]
  },
  {
   "cell_type": "code",
   "execution_count": 11,
   "id": "68cd8291",
   "metadata": {},
   "outputs": [],
   "source": [
    "circle_circ = Circle(15)"
   ]
  },
  {
   "cell_type": "markdown",
   "id": "7efd9d20",
   "metadata": {},
   "source": [
    "Inheritance "
   ]
  },
  {
   "cell_type": "code",
   "execution_count": 12,
   "id": "df730c06",
   "metadata": {},
   "outputs": [],
   "source": [
    "class Animal():\n",
    "    def __init__(self):\n",
    "       print(\"Animal created\")\n",
    "    def who_am_i(self):\n",
    "        print(\"I am an animal\")\n",
    "    "
   ]
  },
  {
   "cell_type": "code",
   "execution_count": 13,
   "id": "7467ba0f",
   "metadata": {},
   "outputs": [],
   "source": [
    "class Cat(Animal):\n",
    "    def who_am_i(self):\n",
    "        print(\"I am a cat\")\n",
    "    "
   ]
  },
  {
   "cell_type": "code",
   "execution_count": 14,
   "id": "37288dab",
   "metadata": {},
   "outputs": [
    {
     "name": "stdout",
     "output_type": "stream",
     "text": [
      "Animal created\n"
     ]
    }
   ],
   "source": [
    "my_cat = Cat()"
   ]
  },
  {
   "cell_type": "code",
   "execution_count": 15,
   "id": "58a79c39",
   "metadata": {},
   "outputs": [
    {
     "name": "stdout",
     "output_type": "stream",
     "text": [
      "I am a cat\n"
     ]
    }
   ],
   "source": [
    "my_cat.who_am_i()"
   ]
  },
  {
   "cell_type": "code",
   "execution_count": 75,
   "id": "80896b9f",
   "metadata": {},
   "outputs": [
    {
     "ename": "SyntaxError",
     "evalue": "invalid non-printable character U+00A0 (789994069.py, line 7)",
     "output_type": "error",
     "traceback": [
      "\u001b[0;36m  Cell \u001b[0;32mIn[75], line 7\u001b[0;36m\u001b[0m\n\u001b[0;31m    print(self.firstname, self.lastname)\u001b[0m\n\u001b[0m                                        ^\u001b[0m\n\u001b[0;31mSyntaxError\u001b[0m\u001b[0;31m:\u001b[0m invalid non-printable character U+00A0\n"
     ]
    }
   ],
   "source": [
    "class Person:\n",
    "    def __init__(self, fname, lname):\n",
    "        self.firstname = fname\n",
    "        self.lastname = lname\n",
    "        \n",
    "    def printname(self):\n",
    "        print(self.firstname, self.lastname) \n",
    "    \n",
    "class Student(Person):\n",
    "    pass \n",
    "\n",
    "x = Student(\"Jess\")\n"
   ]
  },
  {
   "cell_type": "code",
   "execution_count": 74,
   "id": "4f464f77",
   "metadata": {},
   "outputs": [
    {
     "ename": "NameError",
     "evalue": "name 'x' is not defined",
     "output_type": "error",
     "traceback": [
      "\u001b[0;31m---------------------------------------------------------------------------\u001b[0m",
      "\u001b[0;31mNameError\u001b[0m                                 Traceback (most recent call last)",
      "Cell \u001b[0;32mIn[74], line 1\u001b[0m\n\u001b[0;32m----> 1\u001b[0m \u001b[43mx\u001b[49m\u001b[38;5;241m.\u001b[39mprintname()\n",
      "\u001b[0;31mNameError\u001b[0m: name 'x' is not defined"
     ]
    }
   ],
   "source": [
    "x.printname()"
   ]
  },
  {
   "cell_type": "markdown",
   "id": "cb22ea96",
   "metadata": {},
   "source": [
    "Polymorphism. share same method name but..."
   ]
  },
  {
   "cell_type": "code",
   "execution_count": 76,
   "id": "6ed4b0e5",
   "metadata": {},
   "outputs": [
    {
     "ename": "SyntaxError",
     "evalue": "invalid non-printable character U+00A0 (2096061975.py, line 2)",
     "output_type": "error",
     "traceback": [
      "\u001b[0;36m  Cell \u001b[0;32mIn[76], line 2\u001b[0;36m\u001b[0m\n\u001b[0;31m    def __init__(self,name):\u001b[0m\n\u001b[0m    ^\u001b[0m\n\u001b[0;31mSyntaxError\u001b[0m\u001b[0;31m:\u001b[0m invalid non-printable character U+00A0\n"
     ]
    }
   ],
   "source": [
    "class Cat():\n",
    "    def __init__(self,name):\n",
    "        self.name = name\n",
    "    def speak(self):\n",
    "        return self.name + \" says Miaw!\""
   ]
  },
  {
   "cell_type": "code",
   "execution_count": 84,
   "id": "db30cd85",
   "metadata": {},
   "outputs": [
    {
     "ename": "SyntaxError",
     "evalue": "unterminated string literal (detected at line 5) (1342419968.py, line 5)",
     "output_type": "error",
     "traceback": [
      "\u001b[0;36m  Cell \u001b[0;32mIn[84], line 5\u001b[0;36m\u001b[0m\n\u001b[0;31m    return self.name + \" says Woof!\"\"\u001b[0m\n\u001b[0m                                    ^\u001b[0m\n\u001b[0;31mSyntaxError\u001b[0m\u001b[0;31m:\u001b[0m unterminated string literal (detected at line 5)\n"
     ]
    }
   ],
   "source": [
    "class Dog():\n",
    "    def __init__(self,name):\n",
    "        self.name = name\n",
    "    def speak(self):\n",
    "        return self.name + \" says Woof!\"\""
   ]
  },
  {
   "cell_type": "code",
   "execution_count": 87,
   "id": "433a3e83",
   "metadata": {},
   "outputs": [],
   "source": [
    "fluffy = Dog(\"Fluffy\")\n",
    "\n"
   ]
  },
  {
   "cell_type": "code",
   "execution_count": 88,
   "id": "cf61777a",
   "metadata": {},
   "outputs": [
    {
     "ename": "AttributeError",
     "evalue": "'Dog' object has no attribute 'speak'",
     "output_type": "error",
     "traceback": [
      "\u001b[0;31m---------------------------------------------------------------------------\u001b[0m",
      "\u001b[0;31mAttributeError\u001b[0m                            Traceback (most recent call last)",
      "Cell \u001b[0;32mIn[88], line 1\u001b[0m\n\u001b[0;32m----> 1\u001b[0m \u001b[43mfluffy\u001b[49m\u001b[38;5;241;43m.\u001b[39;49m\u001b[43mspeak\u001b[49m()\n",
      "\u001b[0;31mAttributeError\u001b[0m: 'Dog' object has no attribute 'speak'"
     ]
    }
   ],
   "source": [
    "fluffy.speak()"
   ]
  },
  {
   "cell_type": "code",
   "execution_count": null,
   "id": "95b393ac",
   "metadata": {},
   "outputs": [],
   "source": [
    "sushi.speak()"
   ]
  },
  {
   "cell_type": "code",
   "execution_count": null,
   "id": "0e660a63",
   "metadata": {},
   "outputs": [],
   "source": [
    "def pet_speak(pet):\n",
    "    print(pet.speak())"
   ]
  },
  {
   "cell_type": "code",
   "execution_count": null,
   "id": "70cc7390",
   "metadata": {},
   "outputs": [],
   "source": [
    "for pet in [fluffy,sushi]:\n",
    "    pet"
   ]
  }
 ],
 "metadata": {
  "kernelspec": {
   "display_name": "Python 3 (ipykernel)",
   "language": "python",
   "name": "python3"
  },
  "language_info": {
   "codemirror_mode": {
    "name": "ipython",
    "version": 3
   },
   "file_extension": ".py",
   "mimetype": "text/x-python",
   "name": "python",
   "nbconvert_exporter": "python",
   "pygments_lexer": "ipython3",
   "version": "3.11.1"
  }
 },
 "nbformat": 4,
 "nbformat_minor": 5
}
