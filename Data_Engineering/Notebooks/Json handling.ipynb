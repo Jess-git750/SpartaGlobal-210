{
 "cells": [
  {
   "cell_type": "markdown",
   "id": "71aab5a9",
   "metadata": {},
   "source": [
    "1. **r:** open an existing file for a read operation.\n",
    "2. **w:** open an existing file for a write operation. If the file already contains some data then it will be overridden.\n",
    "3. x: creates a new file,if exist> fails\n",
    "4. **a:** open an existing file for append operation. It won’t override existing data.\n",
    "5. **r+:** To read and write data into the file. The previous data in the file will be overridden.\n",
    "6. **w+:** To write and read data. It will override existing data.\n",
    "7. **a+:** To append and read data from the file. It won’t override existing data."
   ]
  },
  {
   "cell_type": "code",
   "execution_count": 1,
   "id": "ab4a703d",
   "metadata": {},
   "outputs": [
    {
     "name": "stdout",
     "output_type": "stream",
     "text": [
      "{\"name\": \"John Smith\", \"age\": 35, \"is_student\": false}\n"
     ]
    }
   ],
   "source": [
    "import json\n",
    "\n",
    "\n",
    "#will open the json and then print data in terminal in single string\n",
    "with open(\"sample1.json\",\"r\") as f: \n",
    "    contents = f.read()\n",
    "print(contents)\n",
    "   \n"
   ]
  },
  {
   "cell_type": "code",
   "execution_count": 2,
   "id": "ca6093ec",
   "metadata": {},
   "outputs": [],
   "source": [
    "#to overwrite or create new file and add data:    \n",
    "data= {\n",
    "    \"name\": \"John Smith\",\n",
    "    \"age\": 35,\n",
    "    \"is_student\": False\n",
    "}\n",
    "with open(\"sample1.json\", \"w\") as f:\n",
    "    json.dump(data, f)\n"
   ]
  },
  {
   "cell_type": "code",
   "execution_count": null,
   "id": "f977966f",
   "metadata": {},
   "outputs": [],
   "source": [
    "#to transform a dictionary to a json file\n",
    "test_dict = {  \n",
    "    \"name\" : \"Lou\",\n",
    "    \"age\" : 7,\n",
    "    \"city\" : \"London\"\n",
    "}\n",
    "with open(\"newjson.json\", \"w\") as f:\n",
    "    json.dump(test_dict, f)\n"
   ]
  },
  {
   "cell_type": "code",
   "execution_count": null,
   "id": "f9ea98c5",
   "metadata": {},
   "outputs": [],
   "source": [
    "#willopen the json and print into dictionnary    \n",
    "with open(\"sample1.json\") as f:  #will open the json and then print data in terminal in python object\n",
    "    data =json.load(f)\n",
    "print(data)"
   ]
  },
  {
   "cell_type": "code",
   "execution_count": null,
   "id": "b6353af8",
   "metadata": {},
   "outputs": [],
   "source": [
    "#to add a new key-value\n",
    "import json\n",
    "\n",
    "with open(\"example.json\", \"r\") as f:\n",
    "    data = json.load\n",
    "    \n",
    "data[\"new_key\"] = \"new_value\"\n",
    "\n",
    "with open(\"example.json\", \"w\") as f:\n",
    "    json.dump(data,f)"
   ]
  },
  {
   "cell_type": "code",
   "execution_count": null,
   "id": "e8646da2",
   "metadata": {},
   "outputs": [],
   "source": [
    "#to change a specific value:\n",
    "import json\n",
    "\n",
    "with open(\"example.json\", \"r\") as f:\n",
    "    data = json.load\n",
    "    \n",
    "data[\"key_to_change\"] = \"new_value\"\n",
    "\n",
    "with open(\"example.json\", \"w\") as f:\n",
    "    json.dump(data,f)"
   ]
  },
  {
   "cell_type": "code",
   "execution_count": null,
   "id": "f0cefe77",
   "metadata": {},
   "outputs": [],
   "source": [
    "#to change a specific key:\n",
    "import json\n",
    "\n",
    "with open(\"example.json\", \"r\") as f:\n",
    "    data = json.load\n",
    "old_key_value = data.pop(\"old_key\")\n",
    "data[\"new_key\"] = old_key_value\n",
    "\n",
    "with open(\"example.json, \"w\") as f:\n",
    "    json.dump(data,f)\n"
   ]
  },
  {
   "cell_type": "code",
   "execution_count": null,
   "id": "2f41ec6c",
   "metadata": {},
   "outputs": [],
   "source": [
    "#to add data in a specific space in our json:\n",
    "import json\n",
    "from collections import OrderedDict\n",
    "with open('example.json', 'r') as f:\n",
    "    data = json.load(f, object_pairs_hook=OrderedDict)\n",
    "new_data = OrderedDict()\n",
    "new_data['new_key'] = 'new_value'\n",
    "for i, (key, value) in enumerate(data.items()):\n",
    "    if i == 1:\n",
    "        new_data.update(data.items())\n",
    "        break\n",
    "    new_data[key] = value\n",
    "\n",
    "with open('example.json', 'w') as f:\n",
    "    json.dump(new_data, f)"
   ]
  },
  {
   "cell_type": "code",
   "execution_count": null,
   "id": "03a119e7",
   "metadata": {},
   "outputs": [],
   "source": []
  },
  {
   "cell_type": "code",
   "execution_count": null,
   "id": "42ab31c2",
   "metadata": {},
   "outputs": [],
   "source": []
  },
  {
   "cell_type": "code",
   "execution_count": null,
   "id": "b3339bb9",
   "metadata": {},
   "outputs": [],
   "source": []
  },
  {
   "cell_type": "code",
   "execution_count": null,
   "id": "d3d09345",
   "metadata": {},
   "outputs": [],
   "source": []
  },
  {
   "cell_type": "code",
   "execution_count": null,
   "id": "c9c3218c",
   "metadata": {},
   "outputs": [],
   "source": []
  },
  {
   "cell_type": "code",
   "execution_count": null,
   "id": "08b1bff2",
   "metadata": {},
   "outputs": [],
   "source": []
  }
 ],
 "metadata": {
  "kernelspec": {
   "display_name": "Python 3 (ipykernel)",
   "language": "python",
   "name": "python3"
  },
  "language_info": {
   "codemirror_mode": {
    "name": "ipython",
    "version": 3
   },
   "file_extension": ".py",
   "mimetype": "text/x-python",
   "name": "python",
   "nbconvert_exporter": "python",
   "pygments_lexer": "ipython3",
   "version": "3.11.1"
  }
 },
 "nbformat": 4,
 "nbformat_minor": 5
}
