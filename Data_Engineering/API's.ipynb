{
 "cells": [
  {
   "cell_type": "markdown",
   "id": "31ccc2fc",
   "metadata": {},
   "source": [
    "API: Application Programming Interface"
   ]
  },
  {
   "cell_type": "raw",
   "id": "4dc995a4",
   "metadata": {},
   "source": [
    "facilitation communication client-server over internet"
   ]
  },
  {
   "cell_type": "markdown",
   "id": "a6450ff0",
   "metadata": {},
   "source": [
    "SOAP APIs: not very flexible\n",
    "RPC APIs:\n",
    "Websockets APIs: \n",
    "REST APIs:\n"
   ]
  },
  {
   "cell_type": "markdown",
   "id": "df34cee2",
   "metadata": {},
   "source": [
    "REST APIs: \n",
    "representation and data flow\n",
    "messages\n",
    "URI/Naming resources\n",
    "statelesness\n",
    "support caching"
   ]
  },
  {
   "cell_type": "markdown",
   "id": "dc2c7a4a",
   "metadata": {},
   "source": [
    "language to send to API:\n",
    "    Json\n",
    "    xml"
   ]
  },
  {
   "cell_type": "markdown",
   "id": "5abcbce8",
   "metadata": {},
   "source": [
    "## HTTP"
   ]
  },
  {
   "cell_type": "markdown",
   "id": "f6152fb0",
   "metadata": {},
   "source": [
    "*hhp request: *\n",
    "need to specify http VERB(ex: GET), URL and version (of http), then header then the body"
   ]
  },
  {
   "cell_type": "markdown",
   "id": "1e807fc1",
   "metadata": {},
   "source": [
    "in header: content-type, date, accept-charset"
   ]
  },
  {
   "cell_type": "markdown",
   "id": "ea4d8717",
   "metadata": {},
   "source": [
    "*http response:*\n",
    "response code, http version, header(key value) and body(content we wanted)."
   ]
  },
  {
   "cell_type": "markdown",
   "id": "4596e70a",
   "metadata": {},
   "source": [
    "http VERB: GET(200), POST(201,send api some data like new user resource), PUT(200), DELETE(204), PATCH"
   ]
  },
  {
   "cell_type": "markdown",
   "id": "109405cd",
   "metadata": {},
   "source": [
    "## URI and naming resources "
   ]
  },
  {
   "cell_type": "markdown",
   "id": "670944ae",
   "metadata": {},
   "source": [
    "representational "
   ]
  },
  {
   "cell_type": "markdown",
   "id": "73eac67c",
   "metadata": {},
   "source": [
    "postman www.postman.com  test api before going to code\n"
   ]
  },
  {
   "cell_type": "markdown",
   "id": "b5d3d0d0",
   "metadata": {},
   "source": [
    "Statelessness: API doesn't hold of the status of the last request we made "
   ]
  },
  {
   "cell_type": "markdown",
   "id": "f0c48e3c",
   "metadata": {},
   "source": [
    "caching: if request a lot> first time requested> cached "
   ]
  },
  {
   "cell_type": "markdown",
   "id": "78e9bc88",
   "metadata": {},
   "source": [
    "documentation: lookup and bulk lookup"
   ]
  },
  {
   "cell_type": "code",
   "execution_count": 11,
   "id": "bc84e977",
   "metadata": {},
   "outputs": [
    {
     "name": "stdout",
     "output_type": "stream",
     "text": [
      "{'status': 200, 'result': {'postcode': 'PE19 6GL', 'quality': 1, 'eastings': 520170, 'northings': 260677, 'country': 'England', 'nhs_ha': 'East of England', 'longitude': -0.241842, 'latitude': 52.2312, 'european_electoral_region': 'Eastern', 'primary_care_trust': 'Cambridgeshire', 'region': 'East of England', 'lsoa': 'Huntingdonshire 018A', 'msoa': 'Huntingdonshire 018', 'incode': '6GL', 'outcode': 'PE19', 'parliamentary_constituency': 'Huntingdon', 'admin_district': 'Huntingdonshire', 'parish': 'St. Neots', 'admin_county': 'Cambridgeshire', 'date_of_introduction': '200909', 'admin_ward': 'St. Neots East', 'ced': 'St. Neots East & Gransden', 'ccg': 'NHS Cambridgeshire and Peterborough', 'nuts': 'Cambridgeshire CC', 'pfa': 'Cambridgeshire', 'codes': {'admin_district': 'E07000011', 'admin_county': 'E10000003', 'admin_ward': 'E05011272', 'parish': 'E04012037', 'parliamentary_constituency': 'E14000757', 'ccg': 'E38000260', 'ccg_id': '06H', 'ced': 'E58000094', 'nuts': 'TLH12', 'lsoa': 'E01018135', 'msoa': 'E02003770', 'lau2': 'E07000011', 'pfa': 'E23000023'}}}\n",
      "<class 'method'>\n"
     ]
    }
   ],
   "source": [
    "import requests\n",
    "post_codes_req = requests.get(\"https://api.postcodes.io/postcodes/pe196gl \")\n",
    "# print(post_codes_req) this is not enough, need to be more specific\n",
    "#print(post_codes_req.headers)\n",
    "#print(post_codes_req.content) it is warp up, we need to open it with unicode\n",
    "print(post_codes_req.json())\n",
    "print(type(post_codes_req.json))\n"
   ]
  },
  {
   "cell_type": "markdown",
   "id": "126bd823",
   "metadata": {},
   "source": [
    " if I want 3 postcodes >bulk"
   ]
  },
  {
   "cell_type": "code",
   "execution_count": 15,
   "id": "6cf1c2a2",
   "metadata": {},
   "outputs": [
    {
     "name": "stdout",
     "output_type": "stream",
     "text": [
      "{'status': 200, 'result': [{'query': 'PR3 0SG', 'result': {'postcode': 'PR3 0SG', 'quality': 1, 'eastings': 351012, 'northings': 440302, 'country': 'England', 'nhs_ha': 'North West', 'longitude': -2.746251, 'latitude': 53.856635, 'european_electoral_region': 'North West', 'primary_care_trust': 'North Lancashire Teaching', 'region': 'North West', 'lsoa': 'Wyre 006A', 'msoa': 'Wyre 006', 'incode': '0SG', 'outcode': 'PR3', 'parliamentary_constituency': 'Wyre and Preston North', 'admin_district': 'Wyre', 'parish': 'Myerscough and Bilsborrow', 'admin_county': 'Lancashire', 'date_of_introduction': '200705', 'admin_ward': 'Brock with Catterall', 'ced': 'Wyre Rural East', 'ccg': 'NHS Lancashire and South Cumbria', 'nuts': 'Lancaster and Wyre', 'pfa': 'Lancashire', 'codes': {'admin_district': 'E07000128', 'admin_county': 'E10000017', 'admin_ward': 'E05009934', 'parish': 'E04005340', 'parliamentary_constituency': 'E14001057', 'ccg': 'E38000226', 'ccg_id': '02M', 'ced': 'E58000832', 'nuts': 'TLD44', 'lsoa': 'E01025547', 'msoa': 'E02005324', 'lau2': 'E07000128', 'pfa': 'E23000003'}}}, {'query': 'M45 6GN', 'result': {'postcode': 'M45 6GN', 'quality': 1, 'eastings': 380402, 'northings': 406021, 'country': 'England', 'nhs_ha': 'North West', 'longitude': -2.297262, 'latitude': 53.550467, 'european_electoral_region': 'North West', 'primary_care_trust': 'Bury', 'region': 'North West', 'lsoa': 'Bury 019C', 'msoa': 'Bury 019', 'incode': '6GN', 'outcode': 'M45', 'parliamentary_constituency': 'Bury South', 'admin_district': 'Bury', 'parish': 'Bury, unparished area', 'admin_county': None, 'date_of_introduction': '199405', 'admin_ward': 'Pilkington Park', 'ced': None, 'ccg': 'NHS Greater Manchester', 'nuts': 'Greater Manchester North East', 'pfa': 'Greater Manchester', 'codes': {'admin_district': 'E08000002', 'admin_county': 'E99999999', 'admin_ward': 'E05014159', 'parish': 'E43000156', 'parliamentary_constituency': 'E14000612', 'ccg': 'E38000024', 'ccg_id': '00V', 'ced': 'E99999999', 'nuts': 'TLD37', 'lsoa': 'E01004989', 'msoa': 'E02001037', 'lau2': 'E08000002', 'pfa': 'E23000005'}}}, {'query': 'EX165BL', 'result': {'postcode': 'EX16 5BL', 'quality': 1, 'eastings': 294478, 'northings': 112252, 'country': 'England', 'nhs_ha': 'South West', 'longitude': -3.50197, 'latitude': 50.900064, 'european_electoral_region': 'South West', 'primary_care_trust': 'Devon', 'region': 'South West', 'lsoa': 'Mid Devon 005C', 'msoa': 'Mid Devon 005', 'incode': '5BL', 'outcode': 'EX16', 'parliamentary_constituency': 'Tiverton and Honiton', 'admin_district': 'Mid Devon', 'parish': 'Tiverton', 'admin_county': 'Devon', 'date_of_introduction': '198001', 'admin_ward': 'Westexe', 'ced': 'Tiverton West', 'ccg': 'NHS Devon', 'nuts': 'Devon CC', 'pfa': 'Devon & Cornwall', 'codes': {'admin_district': 'E07000042', 'admin_county': 'E10000008', 'admin_ward': 'E05003531', 'parish': 'E04003055', 'parliamentary_constituency': 'E14000996', 'ccg': 'E38000230', 'ccg_id': '15N', 'ced': 'E58000304', 'nuts': 'TLK43', 'lsoa': 'E01020079', 'msoa': 'E02004168', 'lau2': 'E07000042', 'pfa': 'E23000035'}}}]}\n"
     ]
    }
   ],
   "source": [
    "import requests\n",
    "import json\n",
    "\n",
    "json_body = json.dumps({\"postcodes\": [\"PR3 0SG\", \"M45 6GN\", \"EX165BL\"]})\n",
    "headers = {\"Content-Type\":\"application/json\"}\n",
    "post_multi_req = requests.post(\"https://api.postcodes.io/postcodes\", headers = headers, data = json_body)\n",
    "#get will need a body where get not\n",
    "print(post_multi_req.json())"
   ]
  },
  {
   "cell_type": "markdown",
   "id": "f5df88e3",
   "metadata": {},
   "source": [
    "## Pokemon API "
   ]
  },
  {
   "cell_type": "markdown",
   "id": "2e1d1cfc",
   "metadata": {},
   "source": [
    "https://pokeapi.co/"
   ]
  },
  {
   "cell_type": "markdown",
   "id": "da0b3923",
   "metadata": {},
   "source": []
  },
  {
   "cell_type": "code",
   "execution_count": null,
   "id": "8d488b5c",
   "metadata": {},
   "outputs": [],
   "source": []
  },
  {
   "cell_type": "code",
   "execution_count": 46,
   "id": "63005461",
   "metadata": {},
   "outputs": [],
   "source": [
    "\n",
    "import requests\n",
    "\n",
    "pokemon_name = \"venusaur\"\n",
    "response = requests.get(\"https://pokeapi.co/api/v2/pokemon/venusaur/\")\n",
    "#print(response.json())\n"
   ]
  },
  {
   "cell_type": "code",
   "execution_count": 84,
   "id": "8fe61faf",
   "metadata": {},
   "outputs": [
    {
     "name": "stdout",
     "output_type": "stream",
     "text": [
      "pikachu vs bulbasaur\n",
      "pikachu attacks bulbasaur with 16 of damage!\n",
      "bulbasaur attacks pikachu with 30 of damage!\n",
      "pikachu attacks bulbasaur with 5 of damage!\n",
      "bulbasaur attacks pikachu with 8 of damage!\n",
      "pikachu fainted!\n"
     ]
    }
   ],
   "source": [
    "import requests, random\n",
    "\n",
    "response = requests.get(f\"https://pokeapi.co/api/v2/pokemon/venusaur/\")\n",
    "#data = response.json\n",
    "\n",
    "class Pokemon:\n",
    "    def __init__(self, name):\n",
    "        response = requests.get(f\"https://pokeapi.co/api/v2/pokemon/{name}/\").json()\n",
    "        self.name =response[\"name\"]\n",
    "        self.hp = response[\"stats\"][0][\"base_stat\"]\n",
    "        self.attack = response[\"stats\"][1][\"base_stat\"]\n",
    "        \n",
    "        \n",
    "  \n",
    "class Battle:\n",
    "    def this_is_sparta(self, pokemon1, pokemon2):\n",
    "        print(f\"{pokemon1.name} vs {pokemon2.name}\")\n",
    "        \n",
    "        while True:\n",
    "            \n",
    "            damage = random.randint(1, pokemon1.attack)\n",
    "            pokemon2.hp -= damage\n",
    "            print(f\"{pokemon1.name} attacks {pokemon2.name} with {damage} of damage!\")\n",
    "            if pokemon2.hp <= 0:\n",
    "                print(f\"{pokemon2.name} fainted!\")\n",
    "                break\n",
    "            \n",
    "            damage = random.randint(1, pokemon2.attack)\n",
    "            pokemon1.hp -= damage\n",
    "            print(f\"{pokemon2.name} attacks {pokemon1.name} with {damage} of damage!\")\n",
    "            if pokemon1.hp <= 0:\n",
    "                print(f\"{pokemon1.name} fainted!\")\n",
    "                break\n",
    "        \n",
    "pokemon1 = Pokemon(\"pikachu\")\n",
    "pokemon2 = Pokemon(\"bulbasaur\")\n",
    "battle = Battle()\n",
    "battle.this_is_sparta(pokemon1, pokemon2)\n"
   ]
  },
  {
   "cell_type": "code",
   "execution_count": null,
   "id": "13096f29",
   "metadata": {},
   "outputs": [],
   "source": []
  },
  {
   "cell_type": "code",
   "execution_count": null,
   "id": "0ea81a9d",
   "metadata": {},
   "outputs": [],
   "source": []
  }
 ],
 "metadata": {
  "kernelspec": {
   "display_name": "Python 3 (ipykernel)",
   "language": "python",
   "name": "python3"
  },
  "language_info": {
   "codemirror_mode": {
    "name": "ipython",
    "version": 3
   },
   "file_extension": ".py",
   "mimetype": "text/x-python",
   "name": "python",
   "nbconvert_exporter": "python",
   "pygments_lexer": "ipython3",
   "version": "3.11.1"
  }
 },
 "nbformat": 4,
 "nbformat_minor": 5
}
